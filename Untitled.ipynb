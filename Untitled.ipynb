{
 "cells": [
  {
   "cell_type": "code",
   "execution_count": 1,
   "metadata": {},
   "outputs": [
    {
     "name": "stderr",
     "output_type": "stream",
     "text": [
      "c:\\users\\user\\appdata\\local\\programs\\python\\python36\\lib\\site-packages\\h5py\\__init__.py:36: FutureWarning: Conversion of the second argument of issubdtype from `float` to `np.floating` is deprecated. In future, it will be treated as `np.float64 == np.dtype(float).type`.\n",
      "  from ._conv import register_converters as _register_converters\n"
     ]
    },
    {
     "name": "stdout",
     "output_type": "stream",
     "text": [
      "WARNING:tensorflow:From c:\\users\\user\\appdata\\local\\programs\\python\\python36\\lib\\site-packages\\tensorflow\\contrib\\learn\\python\\learn\\datasets\\base.py:198: retry (from tensorflow.contrib.learn.python.learn.datasets.base) is deprecated and will be removed in a future version.\n",
      "Instructions for updating:\n",
      "Use the retry module or similar alternatives.\n"
     ]
    }
   ],
   "source": [
    "import tensorflow as tf\n",
    "import numpy as np\n",
    "import os\n",
    "import cv2\n",
    "import argparse\n",
    "import yolo.config as cfg\n",
    "from yolo.yolo_net import YOLONet\n",
    "from utils.timer import Timer"
   ]
  },
  {
   "cell_type": "code",
   "execution_count": 2,
   "metadata": {},
   "outputs": [],
   "source": [
    "class Detector(object):\n",
    "\n",
    "    def __init__(self, net, weight_file):\n",
    "        self.net = net\n",
    "        self.weights_file = weight_file\n",
    "\n",
    "        self.classes = cfg.CLASSES\n",
    "        self.num_class = len(self.classes)\n",
    "        self.image_size = cfg.IMAGE_SIZE\n",
    "        self.cell_size = cfg.CELL_SIZE\n",
    "        self.boxes_per_cell = cfg.BOXES_PER_CELL\n",
    "        self.threshold = cfg.THRESHOLD\n",
    "        self.iou_threshold = cfg.IOU_THRESHOLD\n",
    "        self.boundary1 = self.cell_size * self.cell_size * self.num_class\n",
    "        self.boundary2 = self.boundary1 + self.cell_size * self.cell_size * self.boxes_per_cell\n",
    "\n",
    "        self.sess = tf.Session()\n",
    "        self.sess.run(tf.global_variables_initializer())\n",
    "\n",
    "        print('Restoring weights from: ' + self.weights_file)\n",
    "        self.saver = tf.train.Saver()\n",
    "        self.saver.restore(self.sess, self.weights_file)\n",
    "\n",
    "    def draw_result(self, img, result):\n",
    "        for i in range(len(result)):\n",
    "            x = int(result[i][1])\n",
    "            y = int(result[i][2])\n",
    "            w = int(result[i][3] / 2)\n",
    "            h = int(result[i][4] / 2)\n",
    "            cv2.rectangle(img, (x - w, y - h), (x + w, y + h), (0, 255, 0), 2)\n",
    "            cv2.rectangle(img, (x - w, y - h - 20),\n",
    "                          (x + w, y - h), (125, 125, 125), -1)\n",
    "            cv2.putText(img, result[i][0] + ' : %.2f' % result[i][5], (x - w + 5, y - h - 7), cv2.FONT_HERSHEY_SIMPLEX, 0.5, (0, 0, 0), 1, cv2.LINE_AA)\n",
    "\n",
    "    def detect(self, img):\n",
    "        img_h, img_w, _ = img.shape\n",
    "        inputs = cv2.resize(img, (self.image_size, self.image_size))\n",
    "        inputs = cv2.cvtColor(inputs, cv2.COLOR_BGR2RGB).astype(np.float32)\n",
    "        inputs = (inputs / 255.0) * 2.0 - 1.0\n",
    "        inputs = np.reshape(inputs, (1, self.image_size, self.image_size, 3))\n",
    "\n",
    "        result = self.detect_from_cvmat(inputs)[0]\n",
    "\n",
    "        for i in range(len(result)):\n",
    "            result[i][1] *= (1.0 * img_w / self.image_size)\n",
    "            result[i][2] *= (1.0 * img_h / self.image_size)\n",
    "            result[i][3] *= (1.0 * img_w / self.image_size)\n",
    "            result[i][4] *= (1.0 * img_h / self.image_size)\n",
    "\n",
    "        return result\n",
    "\n",
    "    def detect_from_cvmat(self, inputs):\n",
    "        net_output = self.sess.run(self.net.logits,\n",
    "                                   feed_dict={self.net.images: inputs})\n",
    "        results = []\n",
    "        for i in range(net_output.shape[0]):\n",
    "            results.append(self.interpret_output(net_output[i]))\n",
    "\n",
    "        return results\n",
    "\n",
    "    def interpret_output(self, output):\n",
    "        probs = np.zeros((self.cell_size, self.cell_size,\n",
    "                          self.boxes_per_cell, self.num_class))\n",
    "        class_probs = np.reshape(output[0:self.boundary1], (self.cell_size, self.cell_size, self.num_class))\n",
    "        scales = np.reshape(output[self.boundary1:self.boundary2], (self.cell_size, self.cell_size, self.boxes_per_cell))\n",
    "        boxes = np.reshape(output[self.boundary2:], (self.cell_size, self.cell_size, self.boxes_per_cell, 4))\n",
    "        offset = np.transpose(np.reshape(np.array([np.arange(self.cell_size)] * self.cell_size * self.boxes_per_cell),\n",
    "                                         [self.boxes_per_cell, self.cell_size, self.cell_size]), (1, 2, 0))\n",
    "\n",
    "        boxes[:, :, :, 0] += offset\n",
    "        boxes[:, :, :, 1] += np.transpose(offset, (1, 0, 2))\n",
    "        boxes[:, :, :, :2] = 1.0 * boxes[:, :, :, 0:2] / self.cell_size\n",
    "        boxes[:, :, :, 2:] = np.square(boxes[:, :, :, 2:])\n",
    "\n",
    "        boxes *= self.image_size\n",
    "\n",
    "        for i in range(self.boxes_per_cell):\n",
    "            for j in range(self.num_class):\n",
    "                probs[:, :, i, j] = np.multiply(\n",
    "                    class_probs[:, :, j], scales[:, :, i])\n",
    "\n",
    "        filter_mat_probs = np.array(probs >= self.threshold, dtype='bool')\n",
    "        filter_mat_boxes = np.nonzero(filter_mat_probs)\n",
    "        boxes_filtered = boxes[filter_mat_boxes[0],\n",
    "                               filter_mat_boxes[1], filter_mat_boxes[2]]\n",
    "        probs_filtered = probs[filter_mat_probs]\n",
    "        classes_num_filtered = np.argmax(filter_mat_probs, axis=3)[filter_mat_boxes[\n",
    "            0], filter_mat_boxes[1], filter_mat_boxes[2]]\n",
    "\n",
    "        argsort = np.array(np.argsort(probs_filtered))[::-1]\n",
    "        boxes_filtered = boxes_filtered[argsort]\n",
    "        probs_filtered = probs_filtered[argsort]\n",
    "        classes_num_filtered = classes_num_filtered[argsort]\n",
    "\n",
    "        for i in range(len(boxes_filtered)):\n",
    "            if probs_filtered[i] == 0:\n",
    "                continue\n",
    "            for j in range(i + 1, len(boxes_filtered)):\n",
    "                if self.iou(boxes_filtered[i], boxes_filtered[j]) > self.iou_threshold:\n",
    "                    probs_filtered[j] = 0.0\n",
    "\n",
    "        filter_iou = np.array(probs_filtered > 0.0, dtype='bool')\n",
    "        boxes_filtered = boxes_filtered[filter_iou]\n",
    "        probs_filtered = probs_filtered[filter_iou]\n",
    "        classes_num_filtered = classes_num_filtered[filter_iou]\n",
    "\n",
    "        result = []\n",
    "        for i in range(len(boxes_filtered)):\n",
    "            result.append([self.classes[classes_num_filtered[i]], boxes_filtered[i][0], boxes_filtered[\n",
    "                          i][1], boxes_filtered[i][2], boxes_filtered[i][3], probs_filtered[i]])\n",
    "\n",
    "        return result\n",
    "\n",
    "    def iou(self, box1, box2):\n",
    "        tb = min(box1[0] + 0.5 * box1[2], box2[0] + 0.5 * box2[2]) - \\\n",
    "            max(box1[0] - 0.5 * box1[2], box2[0] - 0.5 * box2[2])\n",
    "        lr = min(box1[1] + 0.5 * box1[3], box2[1] + 0.5 * box2[3]) - \\\n",
    "            max(box1[1] - 0.5 * box1[3], box2[1] - 0.5 * box2[3])\n",
    "        if tb < 0 or lr < 0:\n",
    "            intersection = 0\n",
    "        else:\n",
    "            intersection = tb * lr\n",
    "        return intersection / (box1[2] * box1[3] + box2[2] * box2[3] - intersection)\n",
    "\n",
    "    def camera_detector(self, cap, wait=10):\n",
    "        detect_timer = Timer()\n",
    "        ret, _ = cap.read()\n",
    "\n",
    "        while ret:\n",
    "            ret, frame = cap.read()\n",
    "            detect_timer.tic()\n",
    "            result = self.detect(frame)\n",
    "            detect_timer.toc()\n",
    "            print('Average detecting time: {:.3f}s'.format(detect_timer.average_time))\n",
    "\n",
    "            self.draw_result(frame, result)\n",
    "            cv2.imshow('Camera', frame)\n",
    "            cv2.waitKey(wait)\n",
    "\n",
    "            ret, frame = cap.read()\n",
    "\n",
    "    def image_detector(self, imname, wait=0):\n",
    "        detect_timer = Timer()\n",
    "        image = cv2.imread(imname)\n",
    "\n",
    "        detect_timer.tic()\n",
    "        result = self.detect(image)\n",
    "        detect_timer.toc()\n",
    "        print('Average detecting time: {:.3f}s'.format(detect_timer.average_time))\n",
    "\n",
    "        self.draw_result(image, result)\n",
    "        cv2.imshow('Image', image)\n",
    "        cv2.waitKey(wait)"
   ]
  },
  {
   "cell_type": "code",
   "execution_count": 7,
   "metadata": {},
   "outputs": [],
   "source": [
    "def main():\n",
    "    parser = argparse.ArgumentParser()\n",
    "    parser.add_argument('--weights', default=\"YOLO_small.ckpt\", type=str)\n",
    "    parser.add_argument('--weight_dir', default='models', type=str)\n",
    "    parser.add_argument('--data_dir', default=\"data\", type=str)\n",
    "    parser.add_argument('--gpu', default='1', type=str)\n",
    "    args = parser.parse_args()\n",
    "\n",
    "    os.environ['CUDA_VISIBLE_DEVICES'] = args.gpu\n",
    "\n",
    "    yolo = YOLONet(False)\n",
    "    weight_file = os.path.join(args.weight_dir, args.weights)\n",
    "    detector = Detector(yolo, weight_file)\n",
    "\n",
    "    select = 2\n",
    "    if 1 == select:\n",
    "        # detect from camera\n",
    "        cap = cv2.VideoCapture('test/test.mp4')\n",
    "        detector.camera_detector(cap)\n",
    "    if 2 == select:\n",
    "        #detect from image file\n",
    "        imname = 'test/person.jpg'\n",
    "        detector.image_detector(imname)"
   ]
  },
  {
   "cell_type": "code",
   "execution_count": 9,
   "metadata": {},
   "outputs": [
    {
     "name": "stderr",
     "output_type": "stream",
     "text": [
      "usage: ipykernel_launcher.py [-h] [--weights WEIGHTS]\n",
      "                             [--weight_dir WEIGHT_DIR] [--data_dir DATA_DIR]\n",
      "                             [--gpu GPU]\n",
      "ipykernel_launcher.py: error: unrecognized arguments: -f C:\\Users\\User\\AppData\\Roaming\\jupyter\\runtime\\kernel-b73e50f3-2784-4f1b-ae1f-b347ae1af197.json\n"
     ]
    },
    {
     "ename": "SystemExit",
     "evalue": "2",
     "output_type": "error",
     "traceback": [
      "An exception has occurred, use %tb to see the full traceback.\n",
      "\u001b[1;31mSystemExit\u001b[0m\u001b[1;31m:\u001b[0m 2\n"
     ]
    },
    {
     "name": "stderr",
     "output_type": "stream",
     "text": [
      "c:\\users\\user\\appdata\\local\\programs\\python\\python36\\lib\\site-packages\\IPython\\core\\interactiveshell.py:2971: UserWarning: To exit: use 'exit', 'quit', or Ctrl-D.\n",
      "  warn(\"To exit: use 'exit', 'quit', or Ctrl-D.\", stacklevel=1)\n"
     ]
    }
   ],
   "source": [
    "if __name__ == '__main__':\n",
    "    main()\n"
   ]
  },
  {
   "cell_type": "code",
   "execution_count": 10,
   "metadata": {},
   "outputs": [
    {
     "ename": "SystemExit",
     "evalue": "2",
     "output_type": "error",
     "traceback": [
      "\u001b[1;31m---------------------------------------------------------------------------\u001b[0m",
      "\u001b[1;31mSystemExit\u001b[0m                                Traceback (most recent call last)",
      "\u001b[1;32m<ipython-input-9-c7bc734e5e35>\u001b[0m in \u001b[0;36m<module>\u001b[1;34m()\u001b[0m\n\u001b[0;32m      1\u001b[0m \u001b[1;32mif\u001b[0m \u001b[0m__name__\u001b[0m \u001b[1;33m==\u001b[0m \u001b[1;34m'__main__'\u001b[0m\u001b[1;33m:\u001b[0m\u001b[1;33m\u001b[0m\u001b[0m\n\u001b[1;32m----> 2\u001b[1;33m     \u001b[0mmain\u001b[0m\u001b[1;33m(\u001b[0m\u001b[1;33m)\u001b[0m\u001b[1;33m\u001b[0m\u001b[0m\n\u001b[0m",
      "\u001b[1;32m<ipython-input-7-5f0087b75b11>\u001b[0m in \u001b[0;36mmain\u001b[1;34m()\u001b[0m\n\u001b[0;32m      5\u001b[0m     \u001b[0mparser\u001b[0m\u001b[1;33m.\u001b[0m\u001b[0madd_argument\u001b[0m\u001b[1;33m(\u001b[0m\u001b[1;34m'--data_dir'\u001b[0m\u001b[1;33m,\u001b[0m \u001b[0mdefault\u001b[0m\u001b[1;33m=\u001b[0m\u001b[1;34m\"data\"\u001b[0m\u001b[1;33m,\u001b[0m \u001b[0mtype\u001b[0m\u001b[1;33m=\u001b[0m\u001b[0mstr\u001b[0m\u001b[1;33m)\u001b[0m\u001b[1;33m\u001b[0m\u001b[0m\n\u001b[0;32m      6\u001b[0m     \u001b[0mparser\u001b[0m\u001b[1;33m.\u001b[0m\u001b[0madd_argument\u001b[0m\u001b[1;33m(\u001b[0m\u001b[1;34m'--gpu'\u001b[0m\u001b[1;33m,\u001b[0m \u001b[0mdefault\u001b[0m\u001b[1;33m=\u001b[0m\u001b[1;34m'1'\u001b[0m\u001b[1;33m,\u001b[0m \u001b[0mtype\u001b[0m\u001b[1;33m=\u001b[0m\u001b[0mstr\u001b[0m\u001b[1;33m)\u001b[0m\u001b[1;33m\u001b[0m\u001b[0m\n\u001b[1;32m----> 7\u001b[1;33m     \u001b[0margs\u001b[0m \u001b[1;33m=\u001b[0m \u001b[0mparser\u001b[0m\u001b[1;33m.\u001b[0m\u001b[0mparse_args\u001b[0m\u001b[1;33m(\u001b[0m\u001b[1;33m)\u001b[0m\u001b[1;33m\u001b[0m\u001b[0m\n\u001b[0m\u001b[0;32m      8\u001b[0m \u001b[1;33m\u001b[0m\u001b[0m\n\u001b[0;32m      9\u001b[0m     \u001b[0mos\u001b[0m\u001b[1;33m.\u001b[0m\u001b[0menviron\u001b[0m\u001b[1;33m[\u001b[0m\u001b[1;34m'CUDA_VISIBLE_DEVICES'\u001b[0m\u001b[1;33m]\u001b[0m \u001b[1;33m=\u001b[0m \u001b[0margs\u001b[0m\u001b[1;33m.\u001b[0m\u001b[0mgpu\u001b[0m\u001b[1;33m\u001b[0m\u001b[0m\n",
      "\u001b[1;32mc:\\users\\user\\appdata\\local\\programs\\python\\python36\\lib\\argparse.py\u001b[0m in \u001b[0;36mparse_args\u001b[1;34m(self, args, namespace)\u001b[0m\n\u001b[0;32m   1731\u001b[0m         \u001b[1;32mif\u001b[0m \u001b[0margv\u001b[0m\u001b[1;33m:\u001b[0m\u001b[1;33m\u001b[0m\u001b[0m\n\u001b[0;32m   1732\u001b[0m             \u001b[0mmsg\u001b[0m \u001b[1;33m=\u001b[0m \u001b[0m_\u001b[0m\u001b[1;33m(\u001b[0m\u001b[1;34m'unrecognized arguments: %s'\u001b[0m\u001b[1;33m)\u001b[0m\u001b[1;33m\u001b[0m\u001b[0m\n\u001b[1;32m-> 1733\u001b[1;33m             \u001b[0mself\u001b[0m\u001b[1;33m.\u001b[0m\u001b[0merror\u001b[0m\u001b[1;33m(\u001b[0m\u001b[0mmsg\u001b[0m \u001b[1;33m%\u001b[0m \u001b[1;34m' '\u001b[0m\u001b[1;33m.\u001b[0m\u001b[0mjoin\u001b[0m\u001b[1;33m(\u001b[0m\u001b[0margv\u001b[0m\u001b[1;33m)\u001b[0m\u001b[1;33m)\u001b[0m\u001b[1;33m\u001b[0m\u001b[0m\n\u001b[0m\u001b[0;32m   1734\u001b[0m         \u001b[1;32mreturn\u001b[0m \u001b[0margs\u001b[0m\u001b[1;33m\u001b[0m\u001b[0m\n\u001b[0;32m   1735\u001b[0m \u001b[1;33m\u001b[0m\u001b[0m\n",
      "\u001b[1;32mc:\\users\\user\\appdata\\local\\programs\\python\\python36\\lib\\argparse.py\u001b[0m in \u001b[0;36merror\u001b[1;34m(self, message)\u001b[0m\n\u001b[0;32m   2387\u001b[0m         \u001b[0mself\u001b[0m\u001b[1;33m.\u001b[0m\u001b[0mprint_usage\u001b[0m\u001b[1;33m(\u001b[0m\u001b[0m_sys\u001b[0m\u001b[1;33m.\u001b[0m\u001b[0mstderr\u001b[0m\u001b[1;33m)\u001b[0m\u001b[1;33m\u001b[0m\u001b[0m\n\u001b[0;32m   2388\u001b[0m         \u001b[0margs\u001b[0m \u001b[1;33m=\u001b[0m \u001b[1;33m{\u001b[0m\u001b[1;34m'prog'\u001b[0m\u001b[1;33m:\u001b[0m \u001b[0mself\u001b[0m\u001b[1;33m.\u001b[0m\u001b[0mprog\u001b[0m\u001b[1;33m,\u001b[0m \u001b[1;34m'message'\u001b[0m\u001b[1;33m:\u001b[0m \u001b[0mmessage\u001b[0m\u001b[1;33m}\u001b[0m\u001b[1;33m\u001b[0m\u001b[0m\n\u001b[1;32m-> 2389\u001b[1;33m         \u001b[0mself\u001b[0m\u001b[1;33m.\u001b[0m\u001b[0mexit\u001b[0m\u001b[1;33m(\u001b[0m\u001b[1;36m2\u001b[0m\u001b[1;33m,\u001b[0m \u001b[0m_\u001b[0m\u001b[1;33m(\u001b[0m\u001b[1;34m'%(prog)s: error: %(message)s\\n'\u001b[0m\u001b[1;33m)\u001b[0m \u001b[1;33m%\u001b[0m \u001b[0margs\u001b[0m\u001b[1;33m)\u001b[0m\u001b[1;33m\u001b[0m\u001b[0m\n\u001b[0m",
      "\u001b[1;32mc:\\users\\user\\appdata\\local\\programs\\python\\python36\\lib\\argparse.py\u001b[0m in \u001b[0;36mexit\u001b[1;34m(self, status, message)\u001b[0m\n\u001b[0;32m   2374\u001b[0m         \u001b[1;32mif\u001b[0m \u001b[0mmessage\u001b[0m\u001b[1;33m:\u001b[0m\u001b[1;33m\u001b[0m\u001b[0m\n\u001b[0;32m   2375\u001b[0m             \u001b[0mself\u001b[0m\u001b[1;33m.\u001b[0m\u001b[0m_print_message\u001b[0m\u001b[1;33m(\u001b[0m\u001b[0mmessage\u001b[0m\u001b[1;33m,\u001b[0m \u001b[0m_sys\u001b[0m\u001b[1;33m.\u001b[0m\u001b[0mstderr\u001b[0m\u001b[1;33m)\u001b[0m\u001b[1;33m\u001b[0m\u001b[0m\n\u001b[1;32m-> 2376\u001b[1;33m         \u001b[0m_sys\u001b[0m\u001b[1;33m.\u001b[0m\u001b[0mexit\u001b[0m\u001b[1;33m(\u001b[0m\u001b[0mstatus\u001b[0m\u001b[1;33m)\u001b[0m\u001b[1;33m\u001b[0m\u001b[0m\n\u001b[0m\u001b[0;32m   2377\u001b[0m \u001b[1;33m\u001b[0m\u001b[0m\n\u001b[0;32m   2378\u001b[0m     \u001b[1;32mdef\u001b[0m \u001b[0merror\u001b[0m\u001b[1;33m(\u001b[0m\u001b[0mself\u001b[0m\u001b[1;33m,\u001b[0m \u001b[0mmessage\u001b[0m\u001b[1;33m)\u001b[0m\u001b[1;33m:\u001b[0m\u001b[1;33m\u001b[0m\u001b[0m\n",
      "\u001b[1;31mSystemExit\u001b[0m: 2"
     ]
    }
   ],
   "source": [
    "%tb"
   ]
  },
  {
   "cell_type": "code",
   "execution_count": 11,
   "metadata": {},
   "outputs": [
    {
     "name": "stderr",
     "output_type": "stream",
     "text": [
      "usage: ipykernel_launcher.py [-h] [--weights WEIGHTS]\n",
      "                             [--weight_dir WEIGHT_DIR] [--data_dir DATA_DIR]\n",
      "                             [--gpu GPU]\n",
      "ipykernel_launcher.py: error: unrecognized arguments: -f C:\\Users\\User\\AppData\\Roaming\\jupyter\\runtime\\kernel-b73e50f3-2784-4f1b-ae1f-b347ae1af197.json\n"
     ]
    },
    {
     "ename": "SystemExit",
     "evalue": "2",
     "output_type": "error",
     "traceback": [
      "An exception has occurred, use %tb to see the full traceback.\n",
      "\u001b[1;31mSystemExit\u001b[0m\u001b[1;31m:\u001b[0m 2\n"
     ]
    },
    {
     "name": "stderr",
     "output_type": "stream",
     "text": [
      "c:\\users\\user\\appdata\\local\\programs\\python\\python36\\lib\\site-packages\\IPython\\core\\interactiveshell.py:2971: UserWarning: To exit: use 'exit', 'quit', or Ctrl-D.\n",
      "  warn(\"To exit: use 'exit', 'quit', or Ctrl-D.\", stacklevel=1)\n"
     ]
    }
   ],
   "source": [
    "main()"
   ]
  },
  {
   "cell_type": "code",
   "execution_count": 12,
   "metadata": {},
   "outputs": [
    {
     "name": "stderr",
     "output_type": "stream",
     "text": [
      "usage: ipykernel_launcher.py [-h] [--weights WEIGHTS]\n",
      "                             [--weight_dir WEIGHT_DIR] [--data_dir DATA_DIR]\n",
      "                             [--gpu GPU]\n",
      "ipykernel_launcher.py: error: unrecognized arguments: -f C:\\Users\\User\\AppData\\Roaming\\jupyter\\runtime\\kernel-b73e50f3-2784-4f1b-ae1f-b347ae1af197.json\n"
     ]
    },
    {
     "ename": "SystemExit",
     "evalue": "2",
     "output_type": "error",
     "traceback": [
      "An exception has occurred, use %tb to see the full traceback.\n",
      "\u001b[1;31mSystemExit\u001b[0m\u001b[1;31m:\u001b[0m 2\n"
     ]
    },
    {
     "name": "stderr",
     "output_type": "stream",
     "text": [
      "c:\\users\\user\\appdata\\local\\programs\\python\\python36\\lib\\site-packages\\IPython\\core\\interactiveshell.py:2971: UserWarning: To exit: use 'exit', 'quit', or Ctrl-D.\n",
      "  warn(\"To exit: use 'exit', 'quit', or Ctrl-D.\", stacklevel=1)\n"
     ]
    }
   ],
   "source": [
    "main()"
   ]
  },
  {
   "cell_type": "code",
   "execution_count": null,
   "metadata": {},
   "outputs": [],
   "source": []
  }
 ],
 "metadata": {
  "kernelspec": {
   "display_name": "Python 3",
   "language": "python",
   "name": "python3"
  },
  "language_info": {
   "codemirror_mode": {
    "name": "ipython",
    "version": 3
   },
   "file_extension": ".py",
   "mimetype": "text/x-python",
   "name": "python",
   "nbconvert_exporter": "python",
   "pygments_lexer": "ipython3",
   "version": "3.6.0"
  }
 },
 "nbformat": 4,
 "nbformat_minor": 2
}
